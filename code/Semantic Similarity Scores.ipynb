{
 "cells": [
  {
   "cell_type": "code",
   "execution_count": 6,
   "id": "0ae876c8",
   "metadata": {},
   "outputs": [],
   "source": [
    "import re # for punctuation strip\n",
    "import matplotlib.pyplot as plt\n",
    "import pandas as pd\n",
    "import numpy as np\n",
    "import re\n",
    "from textblob import TextBlob"
   ]
  },
  {
   "cell_type": "code",
   "execution_count": 7,
   "id": "20c2f59b",
   "metadata": {},
   "outputs": [],
   "source": [
    "# Correct the typos on the text summaries\n",
    "\n",
    "df = pd.read_csv('/Users/irmakergin/Desktop/final-project-irmak-ergin/organized_data/organized_data.csv')\n",
    "\n",
    "# textblob is not accurate with correcting abbrevations\n",
    "# and  corrects some words inaccurately so I am exclyding them for now.\n",
    "# I am dealing with the abbrevations later in the code before I calculate the semantic similarity\n",
    "\n",
    "exclusion_list = ['ive', 'im', \"i've\", \"i'm\",\n",
    "    \"youre\", \"you're\",\"theyre\", \"they're\", \"shes\", \"she's\",\"hes\", \"he's\",\n",
    "    \"we're\", \"don't\", \"dont\", \"doesn't\", \"doesnt\", \"didn't\", \"didnt\", \n",
    "                  \"sheve\", \"she've\", \"he've\", \"heve\", \"they've\", \"theyve\", \n",
    "                  \"weve\", \"we've\", \"shouldn't\", \"shouldnt\", \"dina\",\"franny\",\n",
    "                  \"frannie\",\"isnt\", \"isn't\",\"aren't\", \"arent\", 'dvd', \"wasnt\", \"wasn't\",\n",
    "                 \"werent\", \"weren't\", \"limo\", \"huh\", \"har\", \"audition\", \"phoney\",\"phony\", \"grilled\", \"robot\",\n",
    "                 \"evertte\", \"mom\", \"caller\", \"memorize\", \"sheila\", 'filming', \"tv\", \"penelope\", \"bagel\",\n",
    "                 \"nanny\", \"candace\",\"giggle\",\"chunky\", \"smouldering\", \"sexy\", \"levine\", \"bunny\",\"barney\",\n",
    "                 \"pants\", \"laundry\", \"kidding\"]\n",
    "\n",
    "\n",
    "# Function to correct words, excluding words start with capital letter and ones defined above\n",
    "\n",
    "def correct_text(text):\n",
    "    if pd.isna(text):  # Check if the value is NA\n",
    "        return text    # Return NA without changes\n",
    "    \n",
    "    corrected_words = []\n",
    "    try:\n",
    "        for word in str(text).split():\n",
    "            # Check if the word is not in the exclusion list and doesn't start with a capital letter\n",
    "            if word.lower() not in exclusion_list and word[0].islower():\n",
    "                corrected_word = str(TextBlob(word).correct())\n",
    "            else:\n",
    "                corrected_word = word\n",
    "            corrected_words.append(corrected_word)\n",
    "        corrected_text = ' '.join(corrected_words)\n",
    "        return corrected_text\n",
    "    except:\n",
    "        return text\n",
    "\n",
    "# Apply the correction function\n",
    "df['textbox.text_corrected'] = df['textbox.text'].apply(correct_text)\n",
    "\n",
    "# Find the index of 'textbox.text' column to create the new column 'textbox.text_corrected' for the same trial\n",
    "text_index = df.columns.get_loc('textbox.text') + 1\n",
    "\n",
    "# Ceate the new column 'textbox.text_corrected' in the correct position\n",
    "columns = list(df.columns)\n",
    "columns = columns[:text_index] + ['textbox.text_corrected'] + [col for col in columns[text_index:] if col != 'textbox.text_corrected']\n",
    "\n",
    "# Reassign the df's columns using the new order\n",
    "df = df[columns]\n",
    "\n",
    "# Save the modified DataFrame to the specified path with the specified file name #CHANGE PATH\n",
    "df.to_csv('/Users/irmakergin/Desktop/final-project-irmak-ergin/organized_data/organized_file_no_typo.csv', index=False)"
   ]
  },
  {
   "cell_type": "code",
   "execution_count": 8,
   "id": "4cb412e5",
   "metadata": {},
   "outputs": [],
   "source": [
    "# Calculate the semantic similarity of each word in the summaries using GloVe \n",
    "\n",
    "filepath = \"/Users/irmakergin/Desktop/final-project-irmak-ergin/glove/glove.6B.300d.txt\"\n",
    "\n",
    "word_list = {}\n",
    "vectors = []\n",
    "with open(filepath, encoding=\"utf8\") as f:\n",
    "    i = 0\n",
    "    for line in f:\n",
    "        word, *vector = line.split()\n",
    "        vectors.append(np.array(\n",
    "                    vector, dtype=np.float32).reshape((1, -1)))\n",
    "        word_list[word] = i\n",
    "        i+=1\n",
    "\n",
    "embedding_matrix = np.concatenate(vectors, axis=0)"
   ]
  },
  {
   "cell_type": "code",
   "execution_count": 9,
   "id": "d5667da8",
   "metadata": {},
   "outputs": [],
   "source": [
    "def cosine(v1, v2):\n",
    "    return v1@v2/(np.linalg.norm(v1)*np.linalg.norm(v2))"
   ]
  },
  {
   "cell_type": "code",
   "execution_count": 10,
   "id": "a303b11a",
   "metadata": {},
   "outputs": [],
   "source": [
    "# correct the abbrevations and turn them into seperate words \n",
    "spelling_changes = {\n",
    "    \"frannie\": [\"franny\"],\n",
    "    \"fanny\": [\"franny\"],\n",
    "    \"ive\": [\"I\", \"have\"],\n",
    "    \"i've\": [\"I\", \"have\"],\n",
    "    \"im\": [\"I\", \"am\"],\n",
    "    \"i'm\": [\"I\", \"am\"],\n",
    "    \"youre\": [\"you\", \"are\"],\n",
    "    \"you're\": [\"you\", \"are\"],\n",
    "    \"theyre\": [\"they\", \"are\"],\n",
    "    \"they're\": [\"they\", \"are\"],\n",
    "    \"shes\": [\"she\", \"is\"],\n",
    "    \"she's\": [\"she\", \"is\"],\n",
    "    \"hes\": [\"he\", \"is\"],\n",
    "    \"he's\": [\"he\", \"is\"],\n",
    "    \"we're\": [\"we\", \"are\"],\n",
    "    \"don't\": [\"do\", \"not\"],\n",
    "    \"dont\": [\"do\", \"not\"],\n",
    "    \"doesn't\": [\"does\", \"not\"],\n",
    "    \"doesnt\": [\"does\", \"not\"],\n",
    "    \"didn't\": [\"did\", \"not\"],\n",
    "    \"didnt\": [\"did\", \"not\"],\n",
    "    \"sheve\": [\"she\", \"have\"],\n",
    "    \"she've\": [\"she\", \"have\"],\n",
    "    \"he've\": [\"he\", \"have\"],\n",
    "    \"heve\": [\"he\", \"have\"],\n",
    "    \"they've\": [\"they\", \"have\"],\n",
    "    \"theyve\": [\"they\", \"have\"],\n",
    "    \"weve\": [\"we\", \"have\"],\n",
    "    \"we've\": [\"we\", \"have\"],\n",
    "    \"shouldn't\": [\"should\", \"not\"],\n",
    "    \"shouldnt\": [\"should\", \"not\"],\n",
    "    \"isnt\": [\"is\", \"not\"],\n",
    "    \"isn't\": [\"is\", \"not\"],\n",
    "    \"aren't\": [\"are\", \"not\"],\n",
    "    \"arent\": [\"are\", \"not\"],\n",
    "    \"wasnt\": [\"was\", \"not\"], \n",
    "    \"wasn't\": [\"was\", \"not\"],\n",
    "    \"weren't\": [\"were\", \"not\"],\n",
    "    \"werent\": [\"were\", \"not\"]\n",
    "}"
   ]
  },
  {
   "cell_type": "code",
   "execution_count": 11,
   "id": "a4238e59",
   "metadata": {},
   "outputs": [
    {
     "name": "stdout",
     "output_type": "stream",
     "text": [
      "Total similarity matrices calculated: 237\n",
      "Non-empty similarity matrices: 237\n"
     ]
    }
   ],
   "source": [
    "# Load the DataFrame\n",
    "df = pd.read_csv('/Users/irmakergin/Desktop/final-project-irmak-ergin/organized_data/organized_file_no_typo.csv')\n",
    "\n",
    "# Create an empty list for similarity matrices\n",
    "similarity_matrices = []\n",
    "\n",
    "# Create counters\n",
    "total_matrices = 0\n",
    "non_empty_matrices = 0\n",
    "\n",
    "for index, row in df.iterrows():\n",
    "    summary = row['textbox.text_corrected']\n",
    "    stimulus = row['segment_text']\n",
    "    \n",
    "    if pd.notna(summary):\n",
    "        stimulus_words = stimulus.split(' ')\n",
    "        summary_words = summary.split(' ')\n",
    "        \n",
    "        # Initialize a list to accumulate all the words after applying spelling changes\n",
    "        processed_summary_words = []\n",
    "        for word in summary_words:\n",
    "            word = re.sub(r'[^\\w\\s]', '', word).lower()\n",
    "            if word in spelling_changes:\n",
    "                # Extend the list with the expanded form of the word\n",
    "                processed_summary_words.extend(spelling_changes[word])\n",
    "            else:\n",
    "                processed_summary_words.append(word)\n",
    "        \n",
    "        # Re-calculate the size of the similarity matrix based on processed summary words\n",
    "        similarity_matrix = np.zeros([len(stimulus_words), len(processed_summary_words)])\n",
    "        \n",
    "        for wi, stim_word in enumerate(stimulus_words):\n",
    "            stim_word = re.sub(r'[^\\w\\s]', '', stim_word).lower()\n",
    "            if stim_word in word_list:\n",
    "                v_wi = embedding_matrix[word_list[stim_word]]\n",
    "                for wj, summary_word in enumerate(processed_summary_words):\n",
    "                    if summary_word in word_list:\n",
    "                        v_wj = embedding_matrix[word_list[summary_word]]\n",
    "                        similarity_matrix[wi, wj] = cosine(v_wi, v_wj)\n",
    "        \n",
    "        total_matrices += 1\n",
    "        if np.any(similarity_matrix != 0):\n",
    "            non_empty_matrices += 1\n",
    "        similarity_matrices.append(similarity_matrix)\n",
    "\n",
    "# Sanity check\n",
    "print(f\"Total similarity matrices calculated: {total_matrices}\")\n",
    "print(f\"Non-empty similarity matrices: {non_empty_matrices}\")\n",
    "\n"
   ]
  },
  {
   "cell_type": "code",
   "execution_count": 12,
   "id": "4ce76400",
   "metadata": {},
   "outputs": [
    {
     "data": {
      "text/plain": [
       "Text(0, 0.5, 'Max Cosine Similarity with Heard Segement')"
      ]
     },
     "execution_count": 12,
     "metadata": {},
     "output_type": "execute_result"
    },
    {
     "data": {
      "image/png": "[encoded data removed]",
      "text/plain": [
       "<Figure size 640x480 with 1 Axes>"
      ]
     },
     "metadata": {},
     "output_type": "display_data"
    }
   ],
   "source": [
    "# here is an example from one summary:\n",
    "\n",
    "plt.plot(summary_words, similarity_matrix.max(0))\n",
    "plt.xticks(rotation=90)\n",
    "plt.xlabel(\"Summary Words\")\n",
    "plt.ylabel(\"Max Cosine Similarity with Heard Segement\")"
   ]
  },
  {
   "cell_type": "code",
   "execution_count": 13,
   "id": "3e8492ef",
   "metadata": {},
   "outputs": [
    {
     "name": "stdout",
     "output_type": "stream",
     "text": [
      "Total number of sum_max_similarity values calculated: 237\n",
      "237\n"
     ]
    }
   ],
   "source": [
    "# take the max value for each word and calculate total similarity score for each summary\n",
    "\n",
    "# create a list to store the sum of maximum similarity scores for each summary\n",
    "sum_max_similarities = []\n",
    "\n",
    "# loop through each similarity matrix to calculate the sum of maximum similarity scores\n",
    "for similarity_matrix in similarity_matrices:\n",
    "    # Calculate the max similarity value for each word in the summary (across all stimulus words)\n",
    "    max_values = np.max(similarity_matrix, axis=0)\n",
    "    \n",
    "    # sum these maximum similarity values\n",
    "    sum_max_similarity = np.sum(max_values) if max_values.size > 0 else 0\n",
    "    \n",
    "    # append the sum to the list\n",
    "    sum_max_similarities.append(sum_max_similarity)\n",
    "\n",
    "# Sanity check- count the number of successfully calculated sum_max_similarity values\n",
    "successful_calculations = len(sum_max_similarities) - np.count_nonzero(np.isnan(sum_max_similarities))\n",
    "print(f\"Total number of sum_max_similarity values calculated: {successful_calculations}\")\n",
    "print(len(sum_max_similarities))\n"
   ]
  },
  {
   "cell_type": "code",
   "execution_count": null,
   "id": "6df1f165",
   "metadata": {},
   "outputs": [],
   "source": []
  }
 ],
 "metadata": {
  "kernelspec": {
   "display_name": "Python [conda env:mne]",
   "language": "python",
   "name": "conda-env-mne-py"
  },
  "language_info": {
   "codemirror_mode": {
    "name": "ipython",
    "version": 3
   },
   "file_extension": ".py",
   "mimetype": "text/x-python",
   "name": "python",
   "nbconvert_exporter": "python",
   "pygments_lexer": "ipython3",
   "version": "3.11.7"
  }
 },
 "nbformat": 4,
 "nbformat_minor": 5
}
